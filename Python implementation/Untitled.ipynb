{
 "cells": [
  {
   "cell_type": "code",
   "execution_count": 131,
   "metadata": {},
   "outputs": [],
   "source": [
    "import numpy as np\n",
    "\n",
    "def txt_to_array(filename, sep = \",\"):\n",
    "    \"\"\"\n",
    "    Input:\n",
    "    filename (str): the text file containing a matrix\n",
    "    which we want to read.\n",
    "\n",
    "    Output:\n",
    "    A numpy array of the matrix.\n",
    "    \"\"\"\n",
    "    inputfile = open(filename,'r+')\n",
    "    file_lines = inputfile.readlines()\n",
    "\n",
    "    mat = []\n",
    "    for line in file_lines:\n",
    "        mat.append(line.strip().split(sep))\n",
    "    mat = np.array(mat).astype(np.float)\n",
    "    return mat\n",
    "\n",
    "# We use the previous function to read the neutrino covariance matrix used in the\n",
    "# chi2 test and the reconstruction matrix, which is used to transform from real\n",
    "# energies to reconstruted energies.\n",
    "neutrino_covariance_matrix = txt_to_array(\"NeutrinoCovMatrix.dat\")\n",
    "reconstruct_mat = txt_to_array(\"ReconstructMatrix.dat\")\n",
    "\n",
    "def FindFineBinIndex(energy):\n",
    "    \"\"\"\n",
    "    Input:\n",
    "    energy (float): prompt energy or neutrino true energy.\n",
    "\n",
    "    Output:\n",
    "    An integer telling us the index of the true_energy_bin_centers\n",
    "    bin in which the input energy is found.\n",
    "    \"\"\"\n",
    "    deltaEfine = 0.05\n",
    "    dindex = np.int(np.floor(energy/deltaEfine))\n",
    "    if dindex<0:\n",
    "        return 0\n",
    "    else:\n",
    "        return dindex\n",
    "    \n",
    "def get_true_energy_bin_centers():\n",
    "    \"\"\"\n",
    "    This function divides the whole reconstructed energy spectrum in\n",
    "    the energy intervals which the experiment is capable to resolve.\n",
    "    The resolution is given by deltaEfine (here, 0.05 MeV).\n",
    "    This energy will allow neutrino energies from 0.78 MeV to 12.78 MeV (after\n",
    "    summing 0.78 MeV in the function), approximately.\n",
    "\n",
    "    Output:\n",
    "    returns a numpy array (the same length as the resolution\n",
    "    matrix) with the center of the bins of the resolution of the experiment.\n",
    "    \"\"\"\n",
    "    enutrue = []\n",
    "    deltaEfine = 0.05\n",
    "    for i in range(0,241):\n",
    "        enutrue.append((i)*deltaEfine)\n",
    "    return enutrue"
   ]
  },
  {
   "cell_type": "code",
   "execution_count": 118,
   "metadata": {},
   "outputs": [],
   "source": [
    "datlowerbin = np.array([0.7,1.3,1.5,1.7,1.9,2.1,2.3,2.5,2.7,2.9,3.1,3.3,3.5,3.7,3.9,4.1,4.3,4.5,\n",
    "               4.7,4.9,5.1,5.3,5.5,5.7,5.9,6.1,6.3,6.5,6.7,6.9,7.1,7.3,7.5,7.7,7.9])\n",
    "datupperbin = np.array([1.3,1.5,1.7,1.9,2.1,2.3,2.5,2.7,2.9,3.1,3.3,3.5,3.7,3.9,4.1,4.3,4.5,4.7,\n",
    "               4.9,5.1,5.3,5.5,5.7,5.9,6.1,6.3,6.5,6.7,6.9,7.1,7.3,7.5,7.7,7.9,12.0])\n",
    "nulowerbin = np.array([1.800, 2.125, 2.375, 2.625, 2.875, 3.125, 3.375, 3.625, 3.875, 4.125, 4.375, 4.625, 4.875,\n",
    "              5.125, 5.375, 5.625, 5.875, 6.125, 6.375, 6.625, 6.875, 7.125, 7.375, 7.625, 7.875, 8.125])\n",
    "nuupperbin = np.array([2.125, 2.375, 2.625, 2.875, 3.125, 3.375, 3.625, 3.875, 4.125, 4.375, 4.625, 4.875, 5.125,\n",
    "              5.375, 5.625, 5.875, 6.125, 6.375, 6.625, 6.875, 7.125, 7.375, 7.625, 7.875, 8.125, 12.00])"
   ]
  },
  {
   "cell_type": "code",
   "execution_count": 128,
   "metadata": {},
   "outputs": [],
   "source": [
    "#reconstruct_mat first index is prompt energy, second index is true energy\n",
    "lentrue = len(nulowerbin)\n",
    "lenrec = len(datlowerbin)\n",
    "mat = np.zeros((lenrec,lentrue))\n",
    "for i in range(0,lenrec):\n",
    "    minrec = FindFineBinIndex(datlowerbin[i])\n",
    "    maxrec = FindFineBinIndex(datupperbin[i])\n",
    "    for j in range(0,lentrue):\n",
    "        mintrue = FindFineBinIndex(nulowerbin[j])\n",
    "        maxtrue = FindFineBinIndex(nuupperbin[j])\n",
    "        mat[i,j] = np.mean(reconstruct_mat[minrec:maxrec,mintrue:maxtrue]) \n"
   ]
  },
  {
   "cell_type": "code",
   "execution_count": 71,
   "metadata": {},
   "outputs": [],
   "source": [
    "import matplotlib.pyplot as plt"
   ]
  },
  {
   "cell_type": "code",
   "execution_count": 133,
   "metadata": {},
   "outputs": [
    {
     "data": {
      "text/plain": [
       "0.0"
      ]
     },
     "execution_count": 133,
     "metadata": {},
     "output_type": "execute_result"
    }
   ],
   "source": [
    "np.linalg.det(reconstruct_mat)"
   ]
  },
  {
   "cell_type": "code",
   "execution_count": 129,
   "metadata": {},
   "outputs": [
    {
     "data": {
      "text/plain": [
       "<matplotlib.image.AxesImage at 0x7f2fdd907610>"
      ]
     },
     "execution_count": 129,
     "metadata": {},
     "output_type": "execute_result"
    },
    {
     "data": {
      "image/png": "[encoded data removed]",
      "text/plain": [
       "<Figure size 432x288 with 1 Axes>"
      ]
     },
     "metadata": {
      "needs_background": "light"
     },
     "output_type": "display_data"
    }
   ],
   "source": [
    "plt.imshow(mat)"
   ]
  },
  {
   "cell_type": "code",
   "execution_count": 11,
   "metadata": {},
   "outputs": [
    {
     "data": {
      "text/plain": [
       "0.0"
      ]
     },
     "execution_count": 11,
     "metadata": {},
     "output_type": "execute_result"
    }
   ],
   "source": [
    "mat[30,25]"
   ]
  },
  {
   "cell_type": "code",
   "execution_count": null,
   "metadata": {},
   "outputs": [],
   "source": []
  }
 ],
 "metadata": {
  "kernelspec": {
   "display_name": "Python 3",
   "language": "python",
   "name": "python3"
  },
  "language_info": {
   "codemirror_mode": {
    "name": "ipython",
    "version": 3
   },
   "file_extension": ".py",
   "mimetype": "text/x-python",
   "name": "python",
   "nbconvert_exporter": "python",
   "pygments_lexer": "ipython3",
   "version": "3.8.5"
  }
 },
 "nbformat": 4,
 "nbformat_minor": 4
}
