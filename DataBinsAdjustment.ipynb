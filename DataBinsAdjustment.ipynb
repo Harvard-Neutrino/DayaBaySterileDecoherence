{
 "cells": [
  {
   "cell_type": "code",
   "execution_count": 2,
   "metadata": {},
   "outputs": [],
   "source": [
    "import numpy as np"
   ]
  },
  {
   "cell_type": "code",
   "execution_count": 86,
   "metadata": {},
   "outputs": [
    {
     "data": {
      "text/plain": [
       "array([1.3, 1.5, 1.7, 1.9, 2.1, 2.3, 2.5, 2.7, 2.9, 3.1, 3.3, 3.5, 3.7,\n",
       "       3.9, 4.1, 4.3, 4.5, 4.7, 4.9, 5.1, 5.3, 5.5, 5.7, 5.9, 6.1, 6.3,\n",
       "       6.5, 6.7, 6.9])"
      ]
     },
     "execution_count": 86,
     "metadata": {},
     "output_type": "execute_result"
    }
   ],
   "source": [
    "number_of_bins = 28\n",
    "datlowerbin = np.array([1.3,1.5,1.7,1.9,2.1,2.3,2.5,2.7,2.9,3.1,3.3,3.5,3.7,3.9,4.1,4.3,4.5,\n",
    "               4.7,4.9,5.1,5.3,5.5,5.7,5.9,6.1,6.3,6.5,6.7])\n",
    "datupperbin = np.array([1.5,1.7,1.9,2.1,2.3,2.5,2.7,2.9,3.1,3.3,3.5,3.7,3.9,4.1,4.3,4.5,4.7,\n",
    "               4.9,5.1,5.3,5.5,5.7,5.9,6.1,6.3,6.5,6.7,6.9])\n",
    "np.append(datlowerbin,datupperbin[-1])"
   ]
  },
  {
   "cell_type": "code",
   "execution_count": 35,
   "metadata": {},
   "outputs": [],
   "source": [
    "dirDB = \"Python implementation/Data/\"\n",
    "dirNEOS = \"NEOS/Data/\""
   ]
  },
  {
   "cell_type": "code",
   "execution_count": 8,
   "metadata": {},
   "outputs": [],
   "source": [
    "def txt_to_array(filename, sep = \",\"):\n",
    "    \"\"\"\n",
    "    Input:\n",
    "    filename (str): the text file containing a matrix\n",
    "    which we want to read.\n",
    "\n",
    "    Output:\n",
    "    A numpy array of the matrix.\n",
    "    \"\"\"\n",
    "    inputfile = open(filename,'r+')\n",
    "    file_lines = inputfile.readlines()\n",
    "\n",
    "    mat = []\n",
    "    for line in file_lines:\n",
    "        mat.append(line.strip().split(sep))\n",
    "    mat = np.array(mat).astype(np.float)\n",
    "    return mat"
   ]
  },
  {
   "cell_type": "code",
   "execution_count": 82,
   "metadata": {},
   "outputs": [],
   "source": [
    "all_data = {'EH1': np.concatenate((txt_to_array(dirDB+\"DataEH1.dat\")[1:29,3:5],txt_to_array(dirDB+\"DataEH1.dat\")[1:29,6:7]),axis=1),\n",
    "            'EH2': np.concatenate((txt_to_array(dirDB+\"DataEH2.dat\")[1:29,3:5],txt_to_array(dirDB+\"DataEH2.dat\")[1:29,6:7]),axis=1),\n",
    "            'EH3': np.concatenate((txt_to_array(dirDB+\"DataEH3.dat\")[1:29,3:5],txt_to_array(dirDB+\"DataEH3.dat\")[1:29,6:7]),axis=1),\n",
    "            'NEOS':161.1*txt_to_array(dirNEOS+'AllData.dat')[3:-2:2,0:3]+161.1*txt_to_array(dirNEOS+'AllData.dat')[4:-2:2,0:3]}"
   ]
  },
  {
   "cell_type": "code",
   "execution_count": 76,
   "metadata": {},
   "outputs": [
    {
     "data": {
      "text/plain": [
       "(28, 3)"
      ]
     },
     "execution_count": 76,
     "metadata": {},
     "output_type": "execute_result"
    }
   ],
   "source": [
    "np.shape(all_data['EH1'])"
   ]
  },
  {
   "cell_type": "code",
   "execution_count": 61,
   "metadata": {},
   "outputs": [],
   "source": [
    "datlowerbin = np.array([1.0,1.1,1.2,1.3,1.4,1.5,1.6,1.7,1.8,1.9,2.0,2.1,2.2,2.3,2.4,2.5,2.6,2.7,\n",
    "               2.8,2.9,3.0,3.1,3.2,3.3,3.4,3.5,3.6,3.7,3.8,3.9,4.0,4.1,4.2,4.3,4.4,4.5,4.6,4.7,\n",
    "               4.8,4.9,5.0,5.1,5.2,5.3,5.4,5.5,5.6,5.7,5.8,5.9,6.0,6.1,6.2,6.3,6.4,6.5,6.6,6.7,\n",
    "               6.8,6.9,7.0])\n",
    "datupperbin = np.array([1.1,1.2,1.3,1.4,1.5,1.6,1.7,1.8,1.9,2.0,2.1,2.2,2.3,2.4,2.5,2.6,2.7,\n",
    "               2.8,2.9,3.0,3.1,3.2,3.3,3.4,3.5,3.6,3.7,3.8,3.9,4.0,4.1,4.2,4.3,4.4,4.5,4.6,4.7,\n",
    "               4.8,4.9,5.0,5.1,5.2,5.3,5.4,5.5,5.6,5.7,5.8,5.9,6.0,6.1,6.2,6.3,6.4,6.5,6.6,6.7,\n",
    "               6.8,6.9,7.0,10.0])"
   ]
  },
  {
   "cell_type": "code",
   "execution_count": 83,
   "metadata": {},
   "outputs": [
    {
     "data": {
      "text/plain": [
       "1.0000236145473191"
      ]
     },
     "execution_count": 83,
     "metadata": {},
     "output_type": "execute_result"
    }
   ],
   "source": [
    "np.sum(all_data['EH3'][:,0])/np.sum(all_data['NEOS'][:,0])"
   ]
  },
  {
   "cell_type": "code",
   "execution_count": 90,
   "metadata": {},
   "outputs": [
    {
     "ename": "TypeError",
     "evalue": "object of type 'NoneType' has no len()",
     "output_type": "error",
     "traceback": [
      "\u001b[0;31m---------------------------------------------------------------------------\u001b[0m",
      "\u001b[0;31mTypeError\u001b[0m                                 Traceback (most recent call last)",
      "\u001b[0;32m<ipython-input-90-96b07938784c>\u001b[0m in \u001b[0;36m<module>\u001b[0;34m\u001b[0m\n\u001b[0;32m----> 1\u001b[0;31m \u001b[0mlen\u001b[0m\u001b[0;34m(\u001b[0m\u001b[0;32mNone\u001b[0m\u001b[0;34m)\u001b[0m\u001b[0;34m\u001b[0m\u001b[0;34m\u001b[0m\u001b[0m\n\u001b[0m",
      "\u001b[0;31mTypeError\u001b[0m: object of type 'NoneType' has no len()"
     ]
    }
   ],
   "source": [
    "len(None)"
   ]
  },
  {
   "cell_type": "code",
   "execution_count": null,
   "metadata": {},
   "outputs": [],
   "source": []
  }
 ],
 "metadata": {
  "kernelspec": {
   "display_name": "Python 3",
   "language": "python",
   "name": "python3"
  },
  "language_info": {
   "codemirror_mode": {
    "name": "ipython",
    "version": 3
   },
   "file_extension": ".py",
   "mimetype": "text/x-python",
   "name": "python",
   "nbconvert_exporter": "python",
   "pygments_lexer": "ipython3",
   "version": "3.8.10"
  }
 },
 "nbformat": 4,
 "nbformat_minor": 4
}
